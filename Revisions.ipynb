{
  "cells": [
    {
      "cell_type": "markdown",
      "metadata": {
        "id": "phdiJDoESDuV"
      },
      "source": [
        "# Setting things up\n",
        "\n",
        "This year we will be using three concepts of modern computing which will make working remotely more feasible. Interactive coding (with [Jupyter notebooks](https://jupyter.org/)), cloud computing (with [Google Colab](https://colab.research.google.com/)), and version control (with [Github](https://github.com/)).\n",
        "\n",
        "Bellow is the guide you will have to follow. Do ask questions if things are not clear ! You will have to use two _free_ accounts, one for [GitHub](https://github.com/) and one for [Google Colab](https://colab.research.google.com/).\n",
        "\n",
        "To get started:\n",
        "1. Setting up your access to the GitHub classroom.\n",
        "    1. Sign up to a _free_ account on [GitHub](https://github.com/). Pick a username that starts with `Lastname-Firstname-`.\n",
        "    2. Get the `week1_revision` assignment link from [LearningCentral](https://learningcentral.cf.ac.uk/) to accept the first assignment.\n",
        "    3. The first time you accept an assignment from [GitHub Classroom](classroom.github.com) you will have to `Authorize GitHub Classroom` in your GitHub account by clicking the green \"Authorize github\" button: ![Autorize github](https://raw.githubusercontent.com/PX2134/images/master/week1/Authorize_github.png)\n",
        "    4. Next you can \"Accept this assignment\": ![Accept this assignment](https://raw.githubusercontent.com/PX2134/images/master/week1/Accept_this_assignment.png)\n",
        "    5. Finally, you should see the \"Ready to go\" page: ![ready to go](https://raw.githubusercontent.com/PX2134/images/master/week1/ready_to_go.png)\n",
        "    6. Click on the link for your \"repository\" to get started.\n",
        "2. Now that you have access to the worksheet, let's set things up so you can run _in the cloud_ (on a remote computer without your direct management).\n",
        "    1. Sign up to a _free_ [account](https://accounts.google.com/sigNup) on Google if you don't have one.\n",
        "    2. Navigate to https://colab.research.google.com. You will land by default on the [introduction](https://colab.research.google.com/notebooks/intro.ipynb) page. Read it, and read the [overview](https://colab.research.google.com/notebooks/basic_features_overview.ipynb) page, it's a good introduction to how Jupyter notebooks work, and in particular how they are run on Google colab.\n",
        "    3. Now that you have an understanding of Jupyter notebooks, we will load this week's worksheet in colab. On https://colab.research.google.com sign in with your Google account using the blue button in the top right: ![Welcome to colab](https://raw.githubusercontent.com/PX2134/images/master/week1/Welcome_to_colab.png)\n",
        "    4. In the menu, click on \"File\" -> \"Open Notebook\". The following should appear: ![New file](https://raw.githubusercontent.com/PX2134/images/master/week1/New_file.png)\n",
        "    5. On that window, click on the \"Github\" tab, and tick the \"Include private repos\" box. This will prompt an authorization pop-up. **Important**: you need to allow pop-up windows in your browser for colab.research.google.com. ![Authorize googlecolab](https://raw.githubusercontent.com/PX2134/images/master/week1/Authorize_googlecolab.png)\n",
        "    6. Confirm your **GitHub** password to give googlecolab access to your GitHub account: ![Confirm password](https://raw.githubusercontent.com/PX2134/images/master/week1/Confirm_password.png)\n",
        "    7. You should now able to access the assignment directly in google colab, on your own copy which includes your github username in the name: ![open github](https://raw.githubusercontent.com/PX2134/images/master/week1/open_github.png)\n",
        "    8. Click on `Revision.ipynb` to open the worksheet in google colab, where you can run it and modify it. You can also open the exercise sheets from the same screen. **To submit your changes back to GitHub for checking, go to \"File\" -> \"Save a copy in GitHub\"**. You should do this often: some assignments come with tests that are run on GitHub and let you know how you are doing. See [GitHub classroom autograding test](https://classroom.github.com/help/reviewing-auto-graded-work-students) for details. **Only the very last version saved on GitHub before the deadline will be assessed.**.\n",
        "\n",
        "# Why such a set-up?\n",
        "\n",
        "We are working online \"in the cloud\", and this is how almost all modern computing is done: both in scientific research and industrial applications. As such, in addition to make online working easier, we are taking this opportunity to get used to this concept in practice.\n",
        "\n",
        "Jupyter notebooks are used in many applications, from machine learning to scientific publications, and in particular within all fields of data science. For instance, Gravitational-wave observations are shared with Jupyter notebooks, e.g. [GW190814](https://dcc.ligo.org/P2000183/public). Google, IBM, Microsoft use it regularly. It's a very good way to share computational ideas with rich documentation (using [markdown](https://colab.research.google.com/notebooks/markdown_guide.ipynb)), and is in particular great for plotting.\n",
        "**However**:\n",
        "* Do be careful of \"hidden state\" (same as with the `IPython` interpreter you use with `Spyder`): do make sure your code works in a new _clean_ environment, as it might be remembering variables or functions whose code you deleted. In Colab: `Runtime`->`restart Runtime`, in Anaconda's Jupyter: `Kernel`->`Restart`. The possibility to execute cells in different order is very flexible but dangerous (with great power ...). To help you out, the notebooks are being run from scratch automatically each time you submit your work. Again, only the very last submission is ever assessed.\n",
        "* In addition, do note that if you end up doing a *lot* of coding, notebooks are not the right place where to do it. They are instead where you use software libraries develloped directly in python. This modular approach will be shown in week2.\n",
        "\n",
        "Version control system, such as the open-source `git` software, are ubiquitous in modern software engineering. GitHub happens to be one of the most used online service that hosts a `git` system. Think of pretty much any open-source code that you use: `numpy`, `matplotlib`, `scipy`, ... they are all available on GitHub. Employers will accept someone's GitHub history as a demonstration of coding proficiency.\n",
        "\n",
        "# Notes:\n",
        "\n",
        "1. You can use your own installation of [Jupyter notebooks](https://jupyter.org/), for instance with [Anaconda3](https://www.anaconda.com/distribution/#download-section). In which case you can use the GitHub web-interface for each assignments to download the worksheets and upload your solutions. You might also find [GitHub Desktop](https://desktop.github.com/) convenient. However Google Colab  does guarantee a working environment, where submitting assignments is straightforward.\n",
        "2. The google colab [overview](https://colab.research.google.com/notebooks/basic_features_overview.ipynb) is a good starting point for Jupyter notebooks.\n",
        "3. For future assignments, you will only need to go through steps:\n",
        "   * 1.B get the assignment link from Learning Central\n",
        "   * 1.D click on \"Accept this assignment\"\n",
        "   * 1.F click on the repository link\n",
        "   * 2.B got to colab.research.google.com\n",
        "   * 2.D,E open the assigment in colab\n",
        "3. Be careful about your environment remembering variables. Make sure your code works in a new _clean_ environment. In Colab: `Runtime`->`restart Runtime`, in Anaconda's Jupyter: `Kernel`->`Restart`.\n",
        "4. Always explore the options of Python functions using the in-built help or refer to https://docs.scipy.org/ and https://www.python.org/doc/.\n",
        "\n",
        "For this week we will use the following imports:"
      ]
    },
    {
      "cell_type": "code",
      "execution_count": null,
      "metadata": {
        "id": "swFQef2ISDuZ"
      },
      "outputs": [],
      "source": [
        "from numpy import linspace, loadtxt, savetxt, column_stack\n",
        "from numpy.random import rand\n",
        "from matplotlib.pyplot import savefig, plot, xlabel, ylabel\n",
        "\n",
        "# NOTE1: Do avoid the `import *` command: this causes you do not\n",
        "# know anymore what is loaded in your environment. It is better\n",
        "# to be explicit.\n",
        "\n",
        "# NOTE2: now that we have imported those packages and modules to this\n",
        "# worksheet, they are available throughout, so no need to re-import\n",
        "# them for each exercise below.\n",
        "\n",
        "# NOTE3: You may want to use additional imports to do the exercises at the end\n",
        "# of the worksheet."
      ]
    },
    {
      "cell_type": "markdown",
      "metadata": {
        "id": "BB6tNqwdSDua"
      },
      "source": [
        "# Introduction\n",
        "\n",
        "As it might have been some time since you last did some Python programming, we start by revising the core material you will have covered last year. Remember, there is plenty of online documentation and examples which you should look at, especially The [Python Tutorial](http://docs.python.org/tutorial/), on which much of this material is based.\n",
        "You should try out the following code snippets and make sure you understand them. Then work through the Worksheet, which will help consolidate the Python programming you did in PX1224.\n",
        "\n",
        "## `if` statements"
      ]
    },
    {
      "cell_type": "code",
      "execution_count": null,
      "metadata": {
        "id": "8EqBmRBXSDua",
        "outputId": "e59c6fa1-6f8a-484d-fcee-05b645c0a9ee"
      },
      "outputs": [
        {
          "name": "stdout",
          "output_type": "stream",
          "text": [
            "x is less than y\n",
            "x is not equal to y\n"
          ]
        }
      ],
      "source": [
        "x, y = 10, 11 # try various values here\n",
        "if x < y:\n",
        "    print ('x is less than y')\n",
        "elif x > y:\n",
        "    print ('x is greater than y')\n",
        "else:\n",
        "    print ('x equals y')\n",
        "\n",
        "if x != y:\n",
        "    print('x is not equal to y')"
      ]
    },
    {
      "cell_type": "code",
      "execution_count": null,
      "metadata": {
        "id": "DW_b3NxBSDub",
        "outputId": "cd661f78-1d5b-4305-e09f-5d955ad86b4b"
      },
      "outputs": [
        {
          "name": "stdout",
          "output_type": "stream",
          "text": [
            "x greater than 0.3 0.9241583910836461\n"
          ]
        }
      ],
      "source": [
        "x = rand()  # generates a single random number between 0 and 1\n",
        "if x < 0.1:\n",
        "    x = 0\n",
        "    print('x less than 0.1. Changed to zero', x)\n",
        "elif x < 0.3:\n",
        "    print('x less than 0.3', x)\n",
        "else:\n",
        "    print('x greater than 0.3', x)"
      ]
    },
    {
      "cell_type": "markdown",
      "metadata": {
        "id": "-tOjfa3ZSDuc"
      },
      "source": [
        "## `while` loop\n",
        "What does the code below do? Modify it to run the previous if statement code multiple\n",
        "times."
      ]
    },
    {
      "cell_type": "code",
      "execution_count": null,
      "metadata": {
        "id": "2Yjvk_ioSDuc",
        "outputId": "a51da07a-3602-49c1-d9d0-be1a5b879c3b"
      },
      "outputs": [
        {
          "name": "stdout",
          "output_type": "stream",
          "text": [
            "Got n=0.9956 after 27 tries\n"
          ]
        }
      ],
      "source": [
        "n=0             # starting number\n",
        "counter=0       # iteration number\n",
        "while n<0.99:   # running the following until n >= 0.99\n",
        "    n = rand()  # get a random number between 0 and 1\n",
        "    counter+=1  # increase the counter by one\n",
        "\n",
        "print(\"Got n={:.4f} after {} tries\".format(n,counter))"
      ]
    },
    {
      "cell_type": "markdown",
      "metadata": {
        "id": "0vCIE8wFSDud"
      },
      "source": [
        "You might want to break out of the while loop. One way is something like this:"
      ]
    },
    {
      "cell_type": "code",
      "execution_count": null,
      "metadata": {
        "id": "_nl7YWdOSDud",
        "outputId": "72366765-7c48-48ee-82d2-ea645fb4b403"
      },
      "outputs": [
        {
          "name": "stdout",
          "output_type": "stream",
          "text": [
            "46 0.9901459319769613\n"
          ]
        }
      ],
      "source": [
        "n=0\n",
        "counter=0\n",
        "max_counter=100\n",
        "while n<0.99:\n",
        "    n = rand()\n",
        "    counter+=1\n",
        "    if counter > max_counter:\n",
        "        print(\"It's taking longer than {} tries, exiting while loop.\".format(max_counter))\n",
        "        break\n",
        "print(counter,n)"
      ]
    },
    {
      "cell_type": "markdown",
      "metadata": {
        "id": "0KGCXeevSDue"
      },
      "source": [
        "You can also ask the user for input, in which case the syntax ```while True:```, which causes the code to run uninterupted, can be useful:\n",
        "```python\n",
        "print(\"Type 'quit' to quit !\")\n",
        "while True:\n",
        "    a = input()\n",
        "    print (a)\n",
        "    if a = 'quit':\n",
        "        break\n",
        "```\n"
      ]
    },
    {
      "cell_type": "markdown",
      "metadata": {
        "id": "Kedb0eyZSDue"
      },
      "source": [
        "## `for` loop\n",
        "\n",
        "We all love for loops. IMPORTANT - make sure you fully understand a for loop."
      ]
    },
    {
      "cell_type": "code",
      "execution_count": null,
      "metadata": {
        "id": "F-RVia6qSDue",
        "outputId": "2c005340-2af9-43b9-f216-b9d1ba0888d8"
      },
      "outputs": [
        {
          "name": "stdout",
          "output_type": "stream",
          "text": [
            "1\n",
            "1\n",
            "2\n",
            "4\n",
            "3\n",
            "9\n",
            "4\n",
            "16\n",
            "5\n",
            "25\n",
            "6\n",
            "36\n",
            "7\n",
            "49\n",
            "8\n",
            "64\n",
            "9\n",
            "81\n"
          ]
        }
      ],
      "source": [
        "for i in range(1, 10):\n",
        "    print(i)\n",
        "    print((i**2))"
      ]
    },
    {
      "cell_type": "markdown",
      "metadata": {
        "id": "wvVyJbq3SDue"
      },
      "source": [
        "Verify what the range function does. What is the starting and ending value of i? How can you step in different increments? How can you step through non-integer values?\n",
        "Read also https://docs.python.org/3/tutorial/controlflow.html#for-statements. (This page talks about lists because, remember, arrays are a feature of NumPy rather than Python itself.)"
      ]
    },
    {
      "cell_type": "markdown",
      "metadata": {
        "id": "kWGrtjfnSDuf"
      },
      "source": [
        "## Lists and list comprehension\n",
        "\n",
        "You’ll remember that you can make a list of anything (often numbers in our applications) like this for example:"
      ]
    },
    {
      "cell_type": "code",
      "execution_count": null,
      "metadata": {
        "id": "tb64CsBqSDuf",
        "outputId": "b3c07e41-4bd9-445a-f494-5a7965829ae2"
      },
      "outputs": [
        {
          "name": "stdout",
          "output_type": "stream",
          "text": [
            "[1, 2, 'red', 'green'] 4\n",
            "red\n",
            "[1, 2, 'red', 'green', 1, 2, 'red', 'green']\n"
          ]
        }
      ],
      "source": [
        "a = [1, 2, 'red', 'green']\n",
        "print (a, len(a))\n",
        "print (a[2])\n",
        "print (2*a)"
      ]
    },
    {
      "cell_type": "markdown",
      "metadata": {
        "id": "L2nbx2wGSDug"
      },
      "source": [
        "Note that 2*a just doubles the list – it doesn’t double the value of each item.\n",
        "\n",
        "NEW: Here’s a simple way to make a list of items, which you have not met before, but can be very handy:"
      ]
    },
    {
      "cell_type": "code",
      "execution_count": null,
      "metadata": {
        "id": "Y8AWpQeLSDug",
        "outputId": "eae9724d-cf81-451d-e83b-34c797bcd530"
      },
      "outputs": [
        {
          "name": "stdout",
          "output_type": "stream",
          "text": [
            "[0.0, 1.0, 4.0, 9.0, 16.0, 25.0, 36.0, 49.0, 64.0, 81.0]\n"
          ]
        }
      ],
      "source": [
        "a = [i for i in range(10)] # list comprehension print (a)\n",
        "a = [float(i*i) for i in range(10)]\n",
        "print (a)\n",
        "a = [float(i*i + 3) for i in range(10) if i % 2 == 0]"
      ]
    },
    {
      "cell_type": "markdown",
      "metadata": {
        "id": "kiS3MzviSDug"
      },
      "source": [
        "The last example selects even values of i only.\n",
        "\n",
        "## Arrays (part of numpy)\n",
        "\n",
        "Look at week 2 of the PX1224 notes to remind yourself about more details. For now, make sure you can generate a numpy array in the following way:"
      ]
    },
    {
      "cell_type": "code",
      "execution_count": null,
      "metadata": {
        "id": "lNulsj3bSDuh",
        "outputId": "6152c4b8-4e73-4238-c93f-444a7ec3b7eb"
      },
      "outputs": [
        {
          "name": "stdout",
          "output_type": "stream",
          "text": [
            "[0.  0.1 0.2 0.3 0.4 0.5 0.6 0.7 0.8 0.9 1. ]\n"
          ]
        }
      ],
      "source": [
        "a_min, a_max, n = 0, 1, 11\n",
        "a = linspace (a_min , a_max , n)\n",
        "print (a)"
      ]
    },
    {
      "cell_type": "markdown",
      "metadata": {
        "id": "0mYSxsNKSDuh"
      },
      "source": [
        "Try this out for different values and print to the screen.\n",
        "\n",
        "## Writing and reading arrays to/from files\n",
        "\n",
        "See also [numpy.loadtxt](http://docs.scipy.org/doc/numpy/reference/generated/numpy.loadtxt.html). Use a text editor (you can do this in Spyder itself) to write several lines of data to a file. Then look at the following code snippets. Make sure you follow what they do.\n",
        "\n",
        "Read data from the file [data.txt](https://raw.githubusercontent.com/PX2134/data/master/week1/data.txt) into an array y, and skip the first row.\n",
        "**Note**: to upload the data to colab, either download onto your computer and right-click \"upload\" on the folder menu in the left-hand side bar, or run:\n",
        "```\n",
        "! wget <link to file>\n",
        "```\n",
        "e.g.:"
      ]
    },
    {
      "cell_type": "code",
      "execution_count": null,
      "metadata": {
        "id": "C5B_0Z7CSDuh"
      },
      "outputs": [],
      "source": [
        "! wget -q https://raw.githubusercontent.com/PX2134/data/master/week1/data.txt"
      ]
    },
    {
      "cell_type": "code",
      "execution_count": null,
      "metadata": {
        "id": "WCLtOgLLSDuh"
      },
      "outputs": [],
      "source": [
        "y = loadtxt('data.txt', skiprows=1)"
      ]
    },
    {
      "cell_type": "markdown",
      "metadata": {
        "id": "MGHy9foASDuh"
      },
      "source": [
        "Read data from a file object `f` into an array a"
      ]
    },
    {
      "cell_type": "code",
      "execution_count": null,
      "metadata": {
        "id": "3eVf8PbBSDui"
      },
      "outputs": [],
      "source": [
        "f=open('data.txt')\n",
        "y=loadtxt(f)"
      ]
    },
    {
      "cell_type": "markdown",
      "metadata": {
        "id": "b5otXNJ_SDui"
      },
      "source": [
        "Create an array y and write it into a file named `data2.txt`, specifying a different `delimiter`:"
      ]
    },
    {
      "cell_type": "code",
      "execution_count": null,
      "metadata": {
        "id": "8kuN8VTWSDui"
      },
      "outputs": [],
      "source": [
        "savetxt('data2.txt', y, delimiter=',')"
      ]
    },
    {
      "cell_type": "markdown",
      "metadata": {
        "id": "8icXSTZNSDui"
      },
      "source": [
        "Take a look at the resulting text file by opening it with the Spyder editor.\n",
        "\n",
        "## NEW: Pandas\n",
        "\n",
        "There is a Python module called pandas which you might find useful for reading and handling data.\n",
        "You can find out more at http://pandas.pydata.org/ and a short introduction at http://pythonhow.com/data-analysis-with-python-pandas. This is not a requirement for the rest of the course, but just one more way to do things which you might find interesting.\n",
        "\n",
        "\n",
        "For example, it is easy to read the csv (comma separated variable) formatted file `example.csv`. As before, either download and upload [example.csv](https://raw.githubusercontent.com/PX2134/data/master/week1/example.csv) yourself, or:"
      ]
    },
    {
      "cell_type": "code",
      "execution_count": null,
      "metadata": {
        "id": "dTI8PrTKSDui"
      },
      "outputs": [],
      "source": [
        "! wget -q https://raw.githubusercontent.com/PX2134/data/master/week1/example.csv"
      ]
    },
    {
      "cell_type": "markdown",
      "metadata": {
        "id": "urbjs3xoSDui"
      },
      "source": [
        "To read it in, you can simply do:"
      ]
    },
    {
      "cell_type": "code",
      "execution_count": null,
      "metadata": {
        "id": "Oy51fXalSDui"
      },
      "outputs": [],
      "source": [
        "import pandas as pd # useful for reading csv data files\n",
        "df = pd.read_csv('example.csv')"
      ]
    },
    {
      "cell_type": "code",
      "execution_count": null,
      "metadata": {
        "id": "FN0C2KimSDui",
        "outputId": "e20635b6-0c71-426d-a5e0-7c462db6c039"
      },
      "outputs": [
        {
          "data": {
            "text/html": [
              "<div>\n",
              "<style scoped>\n",
              "    .dataframe tbody tr th:only-of-type {\n",
              "        vertical-align: middle;\n",
              "    }\n",
              "\n",
              "    .dataframe tbody tr th {\n",
              "        vertical-align: top;\n",
              "    }\n",
              "\n",
              "    .dataframe thead th {\n",
              "        text-align: right;\n",
              "    }\n",
              "</style>\n",
              "<table border=\"1\" class=\"dataframe\">\n",
              "  <thead>\n",
              "    <tr style=\"text-align: right;\">\n",
              "      <th></th>\n",
              "      <th>A</th>\n",
              "      <th>B</th>\n",
              "    </tr>\n",
              "  </thead>\n",
              "  <tbody>\n",
              "    <tr>\n",
              "      <th>0</th>\n",
              "      <td>1</td>\n",
              "      <td>1.0</td>\n",
              "    </tr>\n",
              "    <tr>\n",
              "      <th>1</th>\n",
              "      <td>2</td>\n",
              "      <td>4.0</td>\n",
              "    </tr>\n",
              "    <tr>\n",
              "      <th>2</th>\n",
              "      <td>3</td>\n",
              "      <td>9.0</td>\n",
              "    </tr>\n",
              "    <tr>\n",
              "      <th>3</th>\n",
              "      <td>4</td>\n",
              "      <td>16.0</td>\n",
              "    </tr>\n",
              "    <tr>\n",
              "      <th>4</th>\n",
              "      <td>5</td>\n",
              "      <td>25.0</td>\n",
              "    </tr>\n",
              "  </tbody>\n",
              "</table>\n",
              "</div>"
            ],
            "text/plain": [
              "   A     B\n",
              "0  1   1.0\n",
              "1  2   4.0\n",
              "2  3   9.0\n",
              "3  4  16.0\n",
              "4  5  25.0"
            ]
          },
          "execution_count": 15,
          "metadata": {},
          "output_type": "execute_result"
        }
      ],
      "source": [
        "df"
      ]
    },
    {
      "cell_type": "markdown",
      "metadata": {
        "id": "Q56d140oSDui"
      },
      "source": [
        "The variable df now contains all the data in the form of a `dataframe`. It is fairly easy to select the columns of data and to plot them out.\n",
        "If the csv file first line is a data header, as for [example.csv](https://raw.githubusercontent.com/PX2134/data/master/week1/example.csv), it is easy to refer to the columns using the header name."
      ]
    },
    {
      "cell_type": "code",
      "execution_count": null,
      "metadata": {
        "id": "XDHIOFg0SDuj",
        "outputId": "028431ee-8c89-4322-84f5-3ae6608924ac"
      },
      "outputs": [
        {
          "name": "stdout",
          "output_type": "stream",
          "text": [
            "   A     B\n",
            "0  1   1.0\n",
            "1  2   4.0\n",
            "2  3   9.0\n",
            "3  4  16.0\n",
            "4  5  25.0\n"
          ]
        },
        {
          "data": {
            "image/png": "[encoded data removed]",
            "text/plain": [
              "<Figure size 432x288 with 1 Axes>"
            ]
          },
          "metadata": {},
          "output_type": "display_data"
        },
        {
          "data": {
            "image/png": "[encoded data removed]",
            "text/plain": [
              "<Figure size 432x288 with 1 Axes>"
            ]
          },
          "metadata": {},
          "output_type": "display_data"
        }
      ],
      "source": [
        "print(df)\n",
        "df.plot() # plots both columns versus the index\n",
        "savefig('example.pdf')\n",
        "#clf() # depending on your set-up, you may need to clear the current figure with clf()\n",
        "df.plot(y='B')\n",
        "savefig('example2.pdf')\n",
        "#clf()"
      ]
    },
    {
      "cell_type": "markdown",
      "metadata": {
        "id": "XXVQ8qcqSDuj"
      },
      "source": [
        "Take a look at the file `example.csv` by opening it directly. You can also select which data to plot like this:"
      ]
    },
    {
      "cell_type": "code",
      "execution_count": null,
      "metadata": {
        "id": "Q6htK3SESDuj",
        "outputId": "e29b2c11-c803-47e3-92e1-a01842f68305"
      },
      "outputs": [
        {
          "data": {
            "text/plain": [
              "<matplotlib.axes._subplots.AxesSubplot at 0x1133864a8>"
            ]
          },
          "execution_count": 18,
          "metadata": {},
          "output_type": "execute_result"
        },
        {
          "data": {
            "image/png": "[encoded data removed]",
            "text/plain": [
              "<Figure size 432x288 with 1 Axes>"
            ]
          },
          "metadata": {},
          "output_type": "display_data"
        },
        {
          "data": {
            "image/png": "[encoded data removed]",
            "text/plain": [
              "<Figure size 432x288 with 1 Axes>"
            ]
          },
          "metadata": {},
          "output_type": "display_data"
        }
      ],
      "source": [
        "df.plot(x='A', y='B') \n",
        "df.plot(x='B', y='A')"
      ]
    },
    {
      "cell_type": "markdown",
      "metadata": {
        "id": "ZVM8_JuYSDuj"
      },
      "source": [
        "Or like that:"
      ]
    },
    {
      "cell_type": "code",
      "execution_count": null,
      "metadata": {
        "id": "S2Uurki6SDuj",
        "outputId": "79bfd3b6-6886-4b27-cfb9-3b6f13cd8163"
      },
      "outputs": [
        {
          "data": {
            "text/plain": [
              "Text(0,0.5,'B')"
            ]
          },
          "execution_count": 19,
          "metadata": {},
          "output_type": "execute_result"
        },
        {
          "data": {
            "image/png": "[encoded data removed]",
            "text/plain": [
              "<Figure size 432x288 with 1 Axes>"
            ]
          },
          "metadata": {},
          "output_type": "display_data"
        }
      ],
      "source": [
        "plot(df.A,df.B)\n",
        "xlabel('A')\n",
        "ylabel('B')"
      ]
    },
    {
      "cell_type": "markdown",
      "metadata": {
        "id": "e1dVRoGpSDuj"
      },
      "source": [
        "The `dataframe` object itself can also be manipulated:"
      ]
    },
    {
      "cell_type": "code",
      "execution_count": null,
      "metadata": {
        "id": "GEWDYDzSSDuj",
        "outputId": "ca6a4e24-f84b-4e0b-a052-8575e858cf47"
      },
      "outputs": [
        {
          "data": {
            "text/plain": [
              "<matplotlib.axes._subplots.AxesSubplot at 0x113401080>"
            ]
          },
          "execution_count": 20,
          "metadata": {},
          "output_type": "execute_result"
        },
        {
          "data": {
            "image/png": "[encoded data removed]",
            "text/plain": [
              "<Figure size 432x288 with 1 Axes>"
            ]
          },
          "metadata": {},
          "output_type": "display_data"
        }
      ],
      "source": [
        "df = df[['A']] # df contains just the 'A' column now \n",
        "df.plot() # plot all of df"
      ]
    },
    {
      "cell_type": "markdown",
      "metadata": {
        "id": "9n3e9_fGSDuj"
      },
      "source": [
        "# Exercises\n",
        "\n",
        "This must be marked before you leave the lab. Mark weighting is in brackets.\n",
        "**Please save the programs that you write to solve the exercises. We may ask you to show us the code and run it to re-generate the results.** Do add comments to your code, you'll lose points if your code is hard to understand. Graphs without labels (or units when appropriate) are not worth any point.\n",
        "\n",
        "For this first week, the mark is for your information only, and will **not** count towards your overall mark for this class.\n",
        "\n",
        "## Exercise 0a\n",
        "[0] Compute the first 20 Fibonacci numbers. Save the result to a file called `Fibonacci.txt`\n",
        "\n",
        "(exercises 0 are for demonstration purposes and won't be marked)"
      ]
    },
    {
      "cell_type": "code",
      "execution_count": 55,
      "metadata": {
        "id": "1J8TokkASDuk"
      },
      "outputs": [],
      "source": [
        "from numpy import *\n",
        "from pylab import *\n",
        "pre=0\n",
        "post=0\n",
        "temp=0\n",
        "list=[]\n",
        "list.append(pre)\n",
        "post=1\n",
        "list.append(post)\n",
        "for i in range(0,18):\n",
        "  temp=post\n",
        "  post=post+pre\n",
        "  pre=temp\n",
        "  list.append(post)\n",
        "savetxt(\"Fibonacci.txt\",list)"
      ]
    },
    {
      "cell_type": "markdown",
      "metadata": {
        "id": "S36XeMUlSDuk"
      },
      "source": [
        "## Exercise 0b\n",
        "[0] Read the result file `Fibonacci.txt` you created in the last exercise. From that data, plot the ratio of consecutive numbers in the Fibonacci sequence.\n",
        "\n",
        "(exercises 0 are for demonstration purposes and won't be marked)"
      ]
    },
    {
      "cell_type": "code",
      "execution_count": 59,
      "metadata": {
        "id": "uiDrdavuSDuk",
        "outputId": "ff8a0bc5-efdb-477a-b64a-972b3911df76",
        "colab": {
          "base_uri": "https://localhost:8080/",
          "height": 669
        }
      },
      "outputs": [
        {
          "output_type": "stream",
          "name": "stdout",
          "text": [
            "[inf, 1.0, 2.0, 1.5, 1.6666666666666667, 1.6, 1.625, 1.6153846153846154, 1.619047619047619, 1.6176470588235294, 1.6181818181818182, 1.6179775280898876, 1.6180555555555556, 1.6180257510729614, 1.6180371352785146, 1.618032786885246, 1.618034447821682, 1.6180338134001253, 1.618034055727554, 0, 0]\n"
          ]
        },
        {
          "output_type": "stream",
          "name": "stderr",
          "text": [
            "/usr/local/lib/python3.7/dist-packages/ipykernel_launcher.py:6: RuntimeWarning: divide by zero encountered in double_scalars\n",
            "  \n"
          ]
        },
        {
          "output_type": "error",
          "ename": "ValueError",
          "evalue": "ignored",
          "traceback": [
            "\u001b[0;31m---------------------------------------------------------------------------\u001b[0m",
            "\u001b[0;31mValueError\u001b[0m                                Traceback (most recent call last)",
            "\u001b[0;32m<ipython-input-59-651fbfe3c6dd>\u001b[0m in \u001b[0;36m<module>\u001b[0;34m\u001b[0m\n\u001b[1;32m      7\u001b[0m \u001b[0mx\u001b[0m \u001b[0;34m=\u001b[0m \u001b[0mlinspace\u001b[0m\u001b[0;34m(\u001b[0m\u001b[0;36m1\u001b[0m\u001b[0;34m,\u001b[0m \u001b[0;36m20\u001b[0m\u001b[0;34m,\u001b[0m \u001b[0;36m20\u001b[0m\u001b[0;34m)\u001b[0m\u001b[0;34m\u001b[0m\u001b[0;34m\u001b[0m\u001b[0m\n\u001b[1;32m      8\u001b[0m \u001b[0mprint\u001b[0m\u001b[0;34m(\u001b[0m\u001b[0marray\u001b[0m\u001b[0;34m)\u001b[0m\u001b[0;34m\u001b[0m\u001b[0;34m\u001b[0m\u001b[0m\n\u001b[0;32m----> 9\u001b[0;31m \u001b[0mplot\u001b[0m\u001b[0;34m(\u001b[0m\u001b[0mx\u001b[0m\u001b[0;34m,\u001b[0m\u001b[0marray\u001b[0m\u001b[0;34m)\u001b[0m\u001b[0;34m\u001b[0m\u001b[0;34m\u001b[0m\u001b[0m\n\u001b[0m",
            "\u001b[0;32m/usr/local/lib/python3.7/dist-packages/matplotlib/pyplot.py\u001b[0m in \u001b[0;36mplot\u001b[0;34m(scalex, scaley, data, *args, **kwargs)\u001b[0m\n\u001b[1;32m   2761\u001b[0m     return gca().plot(\n\u001b[1;32m   2762\u001b[0m         *args, scalex=scalex, scaley=scaley, **({\"data\": data} if data\n\u001b[0;32m-> 2763\u001b[0;31m         is not None else {}), **kwargs)\n\u001b[0m\u001b[1;32m   2764\u001b[0m \u001b[0;34m\u001b[0m\u001b[0m\n\u001b[1;32m   2765\u001b[0m \u001b[0;34m\u001b[0m\u001b[0m\n",
            "\u001b[0;32m/usr/local/lib/python3.7/dist-packages/matplotlib/axes/_axes.py\u001b[0m in \u001b[0;36mplot\u001b[0;34m(self, scalex, scaley, data, *args, **kwargs)\u001b[0m\n\u001b[1;32m   1645\u001b[0m         \"\"\"\n\u001b[1;32m   1646\u001b[0m         \u001b[0mkwargs\u001b[0m \u001b[0;34m=\u001b[0m \u001b[0mcbook\u001b[0m\u001b[0;34m.\u001b[0m\u001b[0mnormalize_kwargs\u001b[0m\u001b[0;34m(\u001b[0m\u001b[0mkwargs\u001b[0m\u001b[0;34m,\u001b[0m \u001b[0mmlines\u001b[0m\u001b[0;34m.\u001b[0m\u001b[0mLine2D\u001b[0m\u001b[0;34m)\u001b[0m\u001b[0;34m\u001b[0m\u001b[0;34m\u001b[0m\u001b[0m\n\u001b[0;32m-> 1647\u001b[0;31m         \u001b[0mlines\u001b[0m \u001b[0;34m=\u001b[0m \u001b[0;34m[\u001b[0m\u001b[0;34m*\u001b[0m\u001b[0mself\u001b[0m\u001b[0;34m.\u001b[0m\u001b[0m_get_lines\u001b[0m\u001b[0;34m(\u001b[0m\u001b[0;34m*\u001b[0m\u001b[0margs\u001b[0m\u001b[0;34m,\u001b[0m \u001b[0mdata\u001b[0m\u001b[0;34m=\u001b[0m\u001b[0mdata\u001b[0m\u001b[0;34m,\u001b[0m \u001b[0;34m**\u001b[0m\u001b[0mkwargs\u001b[0m\u001b[0;34m)\u001b[0m\u001b[0;34m]\u001b[0m\u001b[0;34m\u001b[0m\u001b[0;34m\u001b[0m\u001b[0m\n\u001b[0m\u001b[1;32m   1648\u001b[0m         \u001b[0;32mfor\u001b[0m \u001b[0mline\u001b[0m \u001b[0;32min\u001b[0m \u001b[0mlines\u001b[0m\u001b[0;34m:\u001b[0m\u001b[0;34m\u001b[0m\u001b[0;34m\u001b[0m\u001b[0m\n\u001b[1;32m   1649\u001b[0m             \u001b[0mself\u001b[0m\u001b[0;34m.\u001b[0m\u001b[0madd_line\u001b[0m\u001b[0;34m(\u001b[0m\u001b[0mline\u001b[0m\u001b[0;34m)\u001b[0m\u001b[0;34m\u001b[0m\u001b[0;34m\u001b[0m\u001b[0m\n",
            "\u001b[0;32m/usr/local/lib/python3.7/dist-packages/matplotlib/axes/_base.py\u001b[0m in \u001b[0;36m__call__\u001b[0;34m(self, *args, **kwargs)\u001b[0m\n\u001b[1;32m    214\u001b[0m                 \u001b[0mthis\u001b[0m \u001b[0;34m+=\u001b[0m \u001b[0margs\u001b[0m\u001b[0;34m[\u001b[0m\u001b[0;36m0\u001b[0m\u001b[0;34m]\u001b[0m\u001b[0;34m,\u001b[0m\u001b[0;34m\u001b[0m\u001b[0;34m\u001b[0m\u001b[0m\n\u001b[1;32m    215\u001b[0m                 \u001b[0margs\u001b[0m \u001b[0;34m=\u001b[0m \u001b[0margs\u001b[0m\u001b[0;34m[\u001b[0m\u001b[0;36m1\u001b[0m\u001b[0;34m:\u001b[0m\u001b[0;34m]\u001b[0m\u001b[0;34m\u001b[0m\u001b[0;34m\u001b[0m\u001b[0m\n\u001b[0;32m--> 216\u001b[0;31m             \u001b[0;32myield\u001b[0m \u001b[0;32mfrom\u001b[0m \u001b[0mself\u001b[0m\u001b[0;34m.\u001b[0m\u001b[0m_plot_args\u001b[0m\u001b[0;34m(\u001b[0m\u001b[0mthis\u001b[0m\u001b[0;34m,\u001b[0m \u001b[0mkwargs\u001b[0m\u001b[0;34m)\u001b[0m\u001b[0;34m\u001b[0m\u001b[0;34m\u001b[0m\u001b[0m\n\u001b[0m\u001b[1;32m    217\u001b[0m \u001b[0;34m\u001b[0m\u001b[0m\n\u001b[1;32m    218\u001b[0m     \u001b[0;32mdef\u001b[0m \u001b[0mget_next_color\u001b[0m\u001b[0;34m(\u001b[0m\u001b[0mself\u001b[0m\u001b[0;34m)\u001b[0m\u001b[0;34m:\u001b[0m\u001b[0;34m\u001b[0m\u001b[0;34m\u001b[0m\u001b[0m\n",
            "\u001b[0;32m/usr/local/lib/python3.7/dist-packages/matplotlib/axes/_base.py\u001b[0m in \u001b[0;36m_plot_args\u001b[0;34m(self, tup, kwargs)\u001b[0m\n\u001b[1;32m    340\u001b[0m \u001b[0;34m\u001b[0m\u001b[0m\n\u001b[1;32m    341\u001b[0m         \u001b[0;32mif\u001b[0m \u001b[0mx\u001b[0m\u001b[0;34m.\u001b[0m\u001b[0mshape\u001b[0m\u001b[0;34m[\u001b[0m\u001b[0;36m0\u001b[0m\u001b[0;34m]\u001b[0m \u001b[0;34m!=\u001b[0m \u001b[0my\u001b[0m\u001b[0;34m.\u001b[0m\u001b[0mshape\u001b[0m\u001b[0;34m[\u001b[0m\u001b[0;36m0\u001b[0m\u001b[0;34m]\u001b[0m\u001b[0;34m:\u001b[0m\u001b[0;34m\u001b[0m\u001b[0;34m\u001b[0m\u001b[0m\n\u001b[0;32m--> 342\u001b[0;31m             raise ValueError(f\"x and y must have same first dimension, but \"\n\u001b[0m\u001b[1;32m    343\u001b[0m                              f\"have shapes {x.shape} and {y.shape}\")\n\u001b[1;32m    344\u001b[0m         \u001b[0;32mif\u001b[0m \u001b[0mx\u001b[0m\u001b[0;34m.\u001b[0m\u001b[0mndim\u001b[0m \u001b[0;34m>\u001b[0m \u001b[0;36m2\u001b[0m \u001b[0;32mor\u001b[0m \u001b[0my\u001b[0m\u001b[0;34m.\u001b[0m\u001b[0mndim\u001b[0m \u001b[0;34m>\u001b[0m \u001b[0;36m2\u001b[0m\u001b[0;34m:\u001b[0m\u001b[0;34m\u001b[0m\u001b[0;34m\u001b[0m\u001b[0m\n",
            "\u001b[0;31mValueError\u001b[0m: x and y must have same first dimension, but have shapes (20,) and (21,)"
          ]
        },
        {
          "output_type": "display_data",
          "data": {
            "text/plain": [
              "<Figure size 432x288 with 1 Axes>"
            ],
            "image/png": "[encoded data removed]"
          },
          "metadata": {
            "needs_background": "light"
          }
        }
      ],
      "source": [
        "from numpy import *\n",
        "from pylab import *\n",
        "a=loadtxt(\"Fibonacci.txt\") \n",
        "array=[0,0,0,0,0,0,0,0,0,0,0,0,0,0,0,0,0,0,0,0,0]\n",
        "for i in range(0,19):\n",
        "  array[i]=a[i+1]/a[i]\n",
        "x = linspace(1, 20, 20)\n",
        "print(array)\n",
        "plot(x,array)"
      ]
    },
    {
      "cell_type": "markdown",
      "metadata": {
        "id": "5I2ANuxZSDuk"
      },
      "source": [
        "## Exercise 1\n",
        "[2] Create two (equal length) arrays x_data and y_data within Python, and then save them to a file `data_ex.txt`. Remember that you can \"stack\" two 1-D arrays into a 2-D array with:\n",
        "```python\n",
        "c = column_stack([x_data, y_data])\n",
        "```\n",
        "Use x_data values 1, 2, 3, 4, 5. The y_data values should be 1.0, 3.9, 9.0, 16.2, 25.1."
      ]
    },
    {
      "cell_type": "code",
      "execution_count": 62,
      "metadata": {
        "id": "DgFIwPtdSDuk",
        "outputId": "1dee784c-e1e9-47a1-bb6d-b5db1717e7ce",
        "colab": {
          "base_uri": "https://localhost:8080/",
          "height": 265
        }
      },
      "outputs": [
        {
          "output_type": "display_data",
          "data": {
            "text/plain": [
              "<Figure size 432x288 with 1 Axes>"
            ],
            "image/png": "[encoded data removed]"
          },
          "metadata": {
            "needs_background": "light"
          }
        }
      ],
      "source": [
        "xdata=1, 2, 3, 4, 5\n",
        "ydata=1.0, 3.9, 9.0, 16.2, 25.1\n",
        "plot(xdata,ydata)\n",
        "c = column_stack([xdata, ydata])\n",
        "savetxt(\"data_ex.txt\",c)"
      ]
    },
    {
      "cell_type": "markdown",
      "metadata": {
        "id": "3kgNiXi4SDuk"
      },
      "source": [
        "## Exercise 2\n",
        "[4] Read in the data file `data_ex.txt` created in [Exercise 1](Exercise_1.ipynb) and plot a graph of the data as red points. (To access the file, you can download it to your computer from Exercise_1, and upload it on this notebook with the left-hand side menu). On the same graph plot the function $y = x^2$ as a blue line."
      ]
    },
    {
      "cell_type": "code",
      "execution_count": 6,
      "metadata": {
        "id": "jIY8JXs-SDuk",
        "outputId": "ec96da80-ef43-49f9-fc18-ed4572718457",
        "colab": {
          "base_uri": "https://localhost:8080/",
          "height": 282
        }
      },
      "outputs": [
        {
          "output_type": "execute_result",
          "data": {
            "text/plain": [
              "[<matplotlib.lines.Line2D at 0x7fcbaa033d10>]"
            ]
          },
          "metadata": {},
          "execution_count": 6
        },
        {
          "output_type": "display_data",
          "data": {
            "text/plain": [
              "<Figure size 432x288 with 1 Axes>"
            ],
            "image/png": "[encoded data removed]"
          },
          "metadata": {
            "needs_background": "light"
          }
        }
      ],
      "source": [
        "xdata,ydata=loadtxt(\"data_ex.txt\",unpack=True)\n",
        "plot(xdata,ydata,\"b\")\n",
        "plot(xdata,ydata,\"r:\")"
      ]
    },
    {
      "cell_type": "markdown",
      "metadata": {
        "id": "Ov3JpAmcSDuk"
      },
      "source": [
        "## Exercise 3 \n",
        "[2] Plot the 2-D function $z = sin(x)sin(y-1)$ using `imshow()` (x,y and z are unrelated to the previous questions). Use mgrid or ogrid to create a 2D data array. (Set the origin to the lower left corner.)"
      ]
    },
    {
      "cell_type": "code",
      "execution_count": 2,
      "metadata": {
        "id": "U-Y8gxrgSDuk",
        "outputId": "25d6d3d4-18dd-490a-a3bc-75c5e6f74b85",
        "colab": {
          "base_uri": "https://localhost:8080/",
          "height": 282
        }
      },
      "outputs": [
        {
          "output_type": "execute_result",
          "data": {
            "text/plain": [
              "<matplotlib.image.AxesImage at 0x7fcbaae0f1d0>"
            ]
          },
          "metadata": {},
          "execution_count": 2
        },
        {
          "output_type": "display_data",
          "data": {
            "text/plain": [
              "<Figure size 432x288 with 1 Axes>"
            ],
            "image/png": "[encoded data removed]"
          },
          "metadata": {
            "needs_background": "light"
          }
        }
      ],
      "source": [
        "from numpy import *\n",
        "from pylab import *\n",
        "x,y=mgrid[10:1000:0.1,10:1000:0.1]\n",
        "z=sin(x)*sin(y-1)\n",
        "plt.imshow(z,origin=\"lower\")"
      ]
    },
    {
      "cell_type": "markdown",
      "metadata": {
        "id": "ZimQDXR8SDuk"
      },
      "source": [
        "## Exercise 4\n",
        "[7] Read in the data file `speed.txt` of the speed of an object versus time. To upload this file to colab, either download onto your computer and right-click \"upload\" on the folder menu in the left-hand side bar, or run:\n",
        "```\n",
        "! wget <link to file>\n",
        "```\n",
        "e.g.:\n",
        "\n",
        "```python\n",
        "! wget -q https://raw.githubusercontent.com/PX2134/data/master/week1/speed.txt\n",
        "```"
      ]
    },
    {
      "cell_type": "markdown",
      "metadata": {
        "id": "j_yrCsDRSDuk"
      },
      "source": [
        "Plot a graph to show the object’s position versus time. (Label axes etc. ...). You will need to integrate the speed (in the simplest way possible) to get the position."
      ]
    },
    {
      "cell_type": "markdown",
      "source": [],
      "metadata": {
        "id": "pUasVrO8rrbB"
      }
    },
    {
      "cell_type": "code",
      "execution_count": 38,
      "metadata": {
        "id": "0psBDaDmSDuk"
      },
      "outputs": [],
      "source": [
        "from numpy import *\n",
        "from pylab import *\n",
        "import pandas as pd\n",
        "df=pd.read_csv(\"speed.txt\")\n",
        "t=df[\"time\"]\n",
        "s=df[\"speed\"]\n",
        "x=zeroslike(t)\n",
        "for i in range(len(t)-1):\n",
        "  \n"
      ]
    },
    {
      "cell_type": "markdown",
      "metadata": {
        "id": "8g2vXOFzSDuk"
      },
      "source": [
        "## Exercise 5 \n",
        "[5] Read in the file [gridwatch.csv](https://raw.githubusercontent.com/PX2134/data/master/week1/gridwatch.csv) which was obtained from the web site http://www.gridwatch.templar.co.uk. To upload this file to colab, either download onto your computer and right-click \"upload\" on the folder menu in the left-hand side bar, or run:\n",
        "```\n",
        "! wget <link to file>\n",
        "```\n",
        "e.g.:\n",
        "```python\n",
        "! wget -q https://raw.githubusercontent.com/PX2134/data/master/week1/gridwatch.csv\n",
        "```"
      ]
    },
    {
      "cell_type": "markdown",
      "metadata": {
        "id": "aZzKOTiqSDul"
      },
      "source": [
        "To read in a csv (comma separated variable) file which contains dates like this one does, you can use:\n",
        "```python\n",
        "df = pd.read_csv('gridwatch.csv', parse_dates=['timestamp'])\n",
        "```\n",
        "Plot, on a single graph, the power usage (in MW) versus time for coal and wind\n",
        "energy. Save to file a plot like this:\n",
        "\n",
        "![UK power production](https://raw.githubusercontent.com/PX2134/images/master/week1/gridwatch.png \"Figure 1: UK power production versus time for coal and wind.\")"
      ]
    },
    {
      "cell_type": "code",
      "execution_count": 36,
      "metadata": {
        "id": "GpxBrMtKSDul",
        "outputId": "4c75c4b5-1fe3-4776-cd4c-5564abb18e10",
        "colab": {
          "base_uri": "https://localhost:8080/",
          "height": 296
        }
      },
      "outputs": [
        {
          "output_type": "execute_result",
          "data": {
            "text/plain": [
              "<matplotlib.axes._subplots.AxesSubplot at 0x7fcba2343150>"
            ]
          },
          "metadata": {},
          "execution_count": 36
        },
        {
          "output_type": "display_data",
          "data": {
            "text/plain": [
              "<Figure size 432x288 with 1 Axes>"
            ],
            "image/png": "[encoded data removed]"
          },
          "metadata": {
            "needs_background": "light"
          }
        }
      ],
      "source": [
        "df = pd.read_csv('gridwatch.csv', parse_dates=['timestamp'])\n",
        "df.plot(x=\"timestamp\",y=[\"coal\",\"wind\"])"
      ]
    },
    {
      "cell_type": "markdown",
      "metadata": {
        "id": "37cxZqCLSDul"
      },
      "source": [
        "# Optional extra exercises\n",
        "\n",
        "Those are optional and will **not** be marked."
      ]
    },
    {
      "cell_type": "markdown",
      "metadata": {
        "id": "ie-9wdCGSDul"
      },
      "source": [
        "## Extra 1\n",
        "Write a `while loop` that tests the [Collatz conjecture](https://en.wikipedia.org/wiki/Collatz_conjecture) (see [this video](https://www.youtube.com/watch?v=094y1Z2wpJg) for a quick description) on a given input number. You should implement a break condition as for some numbers the sequence can be very long...\n",
        "\n",
        "## Extra 2\n",
        "Write a small gaming program that first generates a random number between 1 and 9 (try with integers as well as floating point numbers). The program should then ask the user to guess what the number is, and tell them whether their guess is correct, too high or too low. In addition:\n",
        "  - keep the game going until the user types \"exit\" (add that string to the documentation for your program!).\n",
        "  - keep track of how many guesses the user has taken, and when the game ends, print it out.\n",
        "  \n",
        "## Extra 3\n",
        "How about a nice game of ... hangman ! Have the program set a word, and ask the user to guess letters within a fixed number of turns.\n",
        "\n",
        "## Extra 4\n",
        "Text-based adventure game ! There are many such classics, you should be able to make your own ! To make it more user-friendly, instead of checking that the user typed exactly \"yes\" or \"left\" or \"sword\", you can set-up list of possible answers, e.g.:\n",
        "```python\n",
        "yes = [\"Y\", \"y\", \"yes\", \"yeah\", \"yup\"]\n",
        "no = [\"N\", \"n\", \"no\", \"nope\"]\n",
        "```\n",
        "And check whether the input text is in the list `yes` or the list `no`."
      ]
    },
    {
      "cell_type": "code",
      "execution_count": null,
      "metadata": {
        "id": "5ZAPnMOYSDul"
      },
      "outputs": [],
      "source": []
    }
  ],
  "metadata": {
    "kernelspec": {
      "display_name": "Python 3",
      "language": "python",
      "name": "python3"
    },
    "language_info": {
      "codemirror_mode": {
        "name": "ipython",
        "version": 3
      },
      "file_extension": ".py",
      "mimetype": "text/x-python",
      "name": "python",
      "nbconvert_exporter": "python",
      "pygments_lexer": "ipython3",
      "version": "3.7.10"
    },
    "colab": {
      "provenance": []
    }
  },
  "nbformat": 4,
  "nbformat_minor": 0
}